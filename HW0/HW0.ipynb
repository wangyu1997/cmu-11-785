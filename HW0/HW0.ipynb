{
 "cells": [
  {
   "cell_type": "markdown",
   "metadata": {},
   "source": [
    "# Vectorization"
   ]
  },
  {
   "cell_type": "markdown",
   "metadata": {},
   "source": [
    "In this problem you will be given snippets of code. The snippets will be functions   \n",
    "that you will be introduced to through out the course and famous functions you might  \n",
    "use in basic machine learning algorithms. These functions will not be vectorized.\n",
    "\n",
    "Your task is to vectorize the functions. That is, you have to replace the loop with   \n",
    "numpy functions while maintaining its functionality."
   ]
  },
  {
   "cell_type": "markdown",
   "metadata": {},
   "source": [
    "> vectorize_sumproducts: Takes two 1-dimensional arrays and sums the products of all the pairs.   \n",
    "\n",
    "> vectorize_Relu: Takes one 2-dimensional array and apply the relu function on all the values of the array.  \n",
    "\n",
    "> vectorize_PrimeRelu: Takes one 2-dimensional array and apply the derivative of relu function on all the values of the array."
   ]
  },
  {
   "cell_type": "code",
   "execution_count": 11,
   "metadata": {},
   "outputs": [],
   "source": [
    "import numpy as py"
   ]
  },
  {
   "cell_type": "code",
   "execution_count": 12,
   "metadata": {},
   "outputs": [],
   "source": [
    "def vectorize_sumproducts(x,y):\n",
    "    return np.dot(x,y)"
   ]
  },
  {
   "cell_type": "code",
   "execution_count": 16,
   "metadata": {},
   "outputs": [],
   "source": [
    "def vectorize_Relu(x):\n",
    "    return np.maximum(0,x)"
   ]
  },
  {
   "cell_type": "code",
   "execution_count": 23,
   "metadata": {},
   "outputs": [],
   "source": [
    "def vectorize_PrimeRelu(x):\n",
    "    return np.where(np.array(x)>0 ,1,0)"
   ]
  },
  {
   "cell_type": "markdown",
   "metadata": {},
   "source": [
    "# Slicing\n",
    "\n",
    "In this part of the problem you are required to slice the data to smaller lengths. That is, you will be chopping part of an instance to make all the instances in the dataset of the same length. To do that you have multiple options as to how to chop the dataset:\n",
    "\n",
    "> slice_fixed_point : Takes one 3-dimensional array with the starting position and the length of the output instances. Your task is to slice the instances from the same starting position for the given length.  \n",
    "\n",
    "> slice_last_point : Takes one 3-dimensional array with the length of the output instances. Your task is to keeping only the l last points for each instances in the dataset.  \n",
    "\n",
    "> slice_random_point : Takes one 3-dimensional array with the length of the output instances. Your task is to slice the instances from a random point in each of the utterances with the given length. Please use function numpy.random.randint for generating the starting point."
   ]
  },
  {
   "cell_type": "code",
   "execution_count": 73,
   "metadata": {},
   "outputs": [],
   "source": [
    "def slice_fixed_point(x,length,start):\n",
    "    return [d[start:start+length] for d in x]"
   ]
  },
  {
   "cell_type": "code",
   "execution_count": 38,
   "metadata": {},
   "outputs": [],
   "source": [
    "def slice_last_point(x,l):\n",
    "    return [d[-l:] for d in x]"
   ]
  },
  {
   "cell_type": "code",
   "execution_count": 64,
   "metadata": {},
   "outputs": [],
   "source": [
    "def slice_random_point(x,length):\n",
    "    return [d[np.random.randint(0,len(d)-length):][:length] for d in x]"
   ]
  },
  {
   "cell_type": "markdown",
   "metadata": {},
   "source": [
    "# Padding\n",
    "\n",
    "In this part of the problem you are required to pad the data to a larger/same lengths. That is you will be adding values to an instance to make all the instances in the dataset of the same length. To do that you have multiple options:\n",
    "\n",
    "> pad_pattern_end: Takes one 3-dimensional array. Your task is to pad the instances from the end position as shown in the example below. That is, you need to pad the reflection of the utterance mirrored along the edge of the array.  \n",
    "\n",
    "> pad_constant_central: Takes one 3-dimensional array with the constant value of padding. Your task is to pad the instances with the given constant value while maintaining the array at the center of the padding."
   ]
  },
  {
   "cell_type": "code",
   "execution_count": 94,
   "metadata": {},
   "outputs": [],
   "source": [
    "def pad_pattern_end(x):\n",
    "    length = max(map(len,x))\n",
    "    return [(d+(d[::-1]+d)*length)[:length] for d in x]"
   ]
  },
  {
   "cell_type": "code",
   "execution_count": 144,
   "metadata": {},
   "outputs": [],
   "source": [
    "def pad_constant_central(x,c):\n",
    "    C = [c]*max(map(len,x))\n",
    "    l = max(map(len,x))\n",
    "    return [(C+d+C)[l-np.math.ceil((l-len(d))/2):][:l] for d in x]"
   ]
  },
  {
   "cell_type": "code",
   "execution_count": 24,
   "metadata": {},
   "outputs": [
    {
     "data": {
      "text/plain": [
       "26"
      ]
     },
     "execution_count": 24,
     "metadata": {},
     "output_type": "execute_result"
    }
   ],
   "source": [
    "vectorize_sumproducts([1,2,3],[3,4,5])"
   ]
  },
  {
   "cell_type": "code",
   "execution_count": 25,
   "metadata": {},
   "outputs": [
    {
     "data": {
      "text/plain": [
       "array([[1, 0, 3, 5],\n",
       "       [0, 0, 0, 4]])"
      ]
     },
     "execution_count": 25,
     "metadata": {},
     "output_type": "execute_result"
    }
   ],
   "source": [
    "vectorize_Relu([[1,-2,3,5],[0,-3,-2,4]])"
   ]
  },
  {
   "cell_type": "code",
   "execution_count": 26,
   "metadata": {},
   "outputs": [],
   "source": [
    "test = [[1,-2,3,5],[0,-3,-2,4]]"
   ]
  },
  {
   "cell_type": "code",
   "execution_count": 27,
   "metadata": {},
   "outputs": [
    {
     "data": {
      "text/plain": [
       "array([[1, 0, 1, 1],\n",
       "       [0, 0, 0, 1]])"
      ]
     },
     "execution_count": 27,
     "metadata": {},
     "output_type": "execute_result"
    }
   ],
   "source": [
    "vectorize_PrimeRelu(test)"
   ]
  },
  {
   "cell_type": "code",
   "execution_count": 46,
   "metadata": {},
   "outputs": [],
   "source": [
    "t = [\n",
    "    [\n",
    "        [1,2,3,7,5,3],\n",
    "        [4,5,6,7,8,9],\n",
    "        [1,2,3,7,5,3],\n",
    "        [4,5,6,7,8,9],\n",
    "        [1,2,3,7,5,3],\n",
    "        [4,5,6,7,8,9]\n",
    "    ],[\n",
    "        [3,4,22,1,2,4],\n",
    "        [55,3,2,1,3,5],\n",
    "        [3,4,22,1,2,4],\n",
    "        [55,3,2,1,3,5]\n",
    "    ]\n",
    "]"
   ]
  },
  {
   "cell_type": "code",
   "execution_count": 53,
   "metadata": {},
   "outputs": [],
   "source": [
    "def slice_random_point(M, length):\n",
    "    return [d[1:] for d in M]"
   ]
  },
  {
   "cell_type": "code",
   "execution_count": 65,
   "metadata": {},
   "outputs": [
    {
     "data": {
      "text/plain": [
       "[[[4, 5, 6, 7, 8, 9], [1, 2, 3, 7, 5, 3]],\n",
       " [[3, 4, 22, 1, 2, 4], [55, 3, 2, 1, 3, 5]]]"
      ]
     },
     "execution_count": 65,
     "metadata": {},
     "output_type": "execute_result"
    }
   ],
   "source": [
    "slice_random_point(t,2)"
   ]
  },
  {
   "cell_type": "code",
   "execution_count": 98,
   "metadata": {},
   "outputs": [],
   "source": [
    "data = [ \n",
    "['u0l0', 'u0l1', 'u0l2', 'u0l3', 'u0l4'], \n",
    "['u1l0', 'u1l1', 'u1l2', 'u1l3'], \n",
    "['u2l0', 'u2l1', 'u2l2', 'u2l3', 'u2l4', 'u2l5'], \n",
    "['u3l0', 'u3l1', 'u3l2', 'u3l3', 'u3l4'] \n",
    "] "
   ]
  },
  {
   "cell_type": "code",
   "execution_count": 99,
   "metadata": {},
   "outputs": [
    {
     "data": {
      "text/plain": [
       "[['u0l1', 'u0l2'], ['u1l0', 'u1l1'], ['u2l0', 'u2l1'], ['u3l2', 'u3l3']]"
      ]
     },
     "execution_count": 99,
     "metadata": {},
     "output_type": "execute_result"
    }
   ],
   "source": [
    "slice_random_point(data,2)"
   ]
  },
  {
   "cell_type": "code",
   "execution_count": 147,
   "metadata": {},
   "outputs": [
    {
     "data": {
      "text/plain": [
       "[[3, 'u0l0', 'u0l1', 'u0l2', 'u0l3', 'u0l4'],\n",
       " [3, 'u1l0', 'u1l1', 'u1l2', 'u1l3', 3],\n",
       " ['u2l0', 'u2l1', 'u2l2', 'u2l3', 'u2l4', 'u2l5'],\n",
       " [3, 'u3l0', 'u3l1', 'u3l2', 'u3l3', 'u3l4']]"
      ]
     },
     "execution_count": 147,
     "metadata": {},
     "output_type": "execute_result"
    }
   ],
   "source": [
    "pad_constant_central(data,3)"
   ]
  },
  {
   "cell_type": "markdown",
   "metadata": {},
   "source": [
    "# Pytorch"
   ]
  },
  {
   "cell_type": "code",
   "execution_count": 148,
   "metadata": {},
   "outputs": [],
   "source": [
    "import torch"
   ]
  },
  {
   "cell_type": "code",
   "execution_count": 149,
   "metadata": {},
   "outputs": [],
   "source": [
    "def numpy2tensor(array):\n",
    "    return torch.from_numpy(array)"
   ]
  },
  {
   "cell_type": "code",
   "execution_count": 150,
   "metadata": {},
   "outputs": [],
   "source": [
    "def tensor2numpy(tensor):\n",
    "    return array.numpy()"
   ]
  },
  {
   "cell_type": "code",
   "execution_count": 151,
   "metadata": {},
   "outputs": [],
   "source": [
    "def tensor_sum_Products(A,B):\n",
    "    return torch.dot(A,B)"
   ]
  },
  {
   "cell_type": "code",
   "execution_count": 152,
   "metadata": {},
   "outputs": [],
   "source": [
    "def tensor_ReLU(M):\n",
    "    return torch.max(torch,zeros(M.size()),M)"
   ]
  },
  {
   "cell_type": "code",
   "execution_count": 153,
   "metadata": {},
   "outputs": [],
   "source": [
    "def tensor_ReLU_prime():\n",
    "    return torch.clamp(M,min=0)*torch.reciprocal(torch.clamp(M,min=1e-8))"
   ]
  }
 ],
 "metadata": {
  "kernelspec": {
   "display_name": "Python [conda env:deep]",
   "language": "python",
   "name": "conda-env-deep-py"
  },
  "language_info": {
   "codemirror_mode": {
    "name": "ipython",
    "version": 3
   },
   "file_extension": ".py",
   "mimetype": "text/x-python",
   "name": "python",
   "nbconvert_exporter": "python",
   "pygments_lexer": "ipython3",
   "version": "3.6.8"
  }
 },
 "nbformat": 4,
 "nbformat_minor": 2
}
